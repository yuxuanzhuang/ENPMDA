{
 "cells": [
  {
   "cell_type": "code",
   "execution_count": 1,
   "metadata": {},
   "outputs": [],
   "source": [
    "from ENPMDA import MDDataFrame"
   ]
  },
  {
   "cell_type": "code",
   "execution_count": 2,
   "metadata": {},
   "outputs": [],
   "source": [
    "from ENPMDA.preprocessing import TrajectoryEnsemble"
   ]
  },
  {
   "cell_type": "code",
   "execution_count": 3,
   "metadata": {},
   "outputs": [],
   "source": [
    "from ENPMDATests.datafiles import *"
   ]
  },
  {
   "cell_type": "code",
   "execution_count": 4,
   "metadata": {},
   "outputs": [],
   "source": [
    "topology_list = [CLIMBER_BGT_EPJ, CLIMBER_BGT_EPJPNU,\n",
    "                 CLIMBER_EPJPNU_BGT, CLIMBER_EPJPNU_EPJ,\n",
    "                 CLIMBER_EPJ_BGT, CLIMBER_EPJ_EPJPNU]\n",
    "\n",
    "trajectory_list = [CLIMBER_BGT_EPJ_TRANSITION, CLIMBER_BGT_EPJPNU_TRANSITION,\n",
    "                 CLIMBER_EPJPNU_BGT_TRANSITION, CLIMBER_EPJPNU_EPJ_TRANSITION,\n",
    "                 CLIMBER_EPJ_BGT_TRANSITION, CLIMBER_EPJ_EPJPNU_TRANSITION]"
   ]
  },
  {
   "cell_type": "code",
   "execution_count": 5,
   "metadata": {},
   "outputs": [
    {
     "name": "stdout",
     "output_type": "stream",
     "text": [
      "Provided topology file is not a .tpr file. \n",
      " PBC and chain cannot be fixed.\n"
     ]
    },
    {
     "name": "stderr",
     "output_type": "stream",
     "text": [
      "/nethome/yzhuang/mdanalysis/package/MDAnalysis/lib/mdamath.py:293: RuntimeWarning: invalid value encountered in double_scalars\n",
      "  alpha = np.rad2deg(np.arccos(np.dot(y, z) / (ly * lz)))\n",
      "/nethome/yzhuang/mdanalysis/package/MDAnalysis/lib/mdamath.py:294: RuntimeWarning: invalid value encountered in double_scalars\n",
      "  beta = np.rad2deg(np.arccos(np.dot(x, z) / (lx * lz)))\n",
      "/nethome/yzhuang/mdanalysis/package/MDAnalysis/lib/mdamath.py:295: RuntimeWarning: invalid value encountered in double_scalars\n",
      "  gamma = np.rad2deg(np.arccos(np.dot(x, y) / (lx * ly)))\n"
     ]
    },
    {
     "ename": "UnboundLocalError",
     "evalue": "local variable 'u_bond' referenced before assignment",
     "output_type": "error",
     "traceback": [
      "\u001b[0;31m---------------------------------------------------------------------------\u001b[0m",
      "\u001b[0;31mUnboundLocalError\u001b[0m                         Traceback (most recent call last)",
      "\u001b[1;32m/nethome/yzhuang/git_repo/ENPMDA/ENPMDA/preprocessing/test.ipynb Cell 5'\u001b[0m in \u001b[0;36m<cell line: 1>\u001b[0;34m()\u001b[0m\n\u001b[0;32m----> <a href='vscode-notebook-cell://ssh-remote%2Bcpu02/nethome/yzhuang/git_repo/ENPMDA/ENPMDA/preprocessing/test.ipynb#ch0000004vscode-remote?line=0'>1</a>\u001b[0m traj_ensembles \u001b[39m=\u001b[39m TrajectoryEnsemble(ensemble_name\u001b[39m=\u001b[39;49m\u001b[39m'\u001b[39;49m\u001b[39mtest_climber\u001b[39;49m\u001b[39m'\u001b[39;49m,\n\u001b[1;32m      <a href='vscode-notebook-cell://ssh-remote%2Bcpu02/nethome/yzhuang/git_repo/ENPMDA/ENPMDA/preprocessing/test.ipynb#ch0000004vscode-remote?line=1'>2</a>\u001b[0m                                     topology_list\u001b[39m=\u001b[39;49mtopology_list,\n\u001b[1;32m      <a href='vscode-notebook-cell://ssh-remote%2Bcpu02/nethome/yzhuang/git_repo/ENPMDA/ENPMDA/preprocessing/test.ipynb#ch0000004vscode-remote?line=2'>3</a>\u001b[0m                                     trajectory_list\u001b[39m=\u001b[39;49mtrajectory_list)\n",
      "File \u001b[0;32m~/git_repo/ENPMDA/ENPMDA/preprocessing/trajectory_preprocessing.py:40\u001b[0m, in \u001b[0;36mTrajectoryEnsemble.__init__\u001b[0;34m(self, ensemble_name, topology_list, trajectory_list, timestamp, fix_chain, updating)\u001b[0m\n\u001b[1;32m     <a href='file:///nethome/yzhuang/git_repo/ENPMDA/ENPMDA/preprocessing/trajectory_preprocessing.py?line=36'>37</a>\u001b[0m os\u001b[39m.\u001b[39mmakedirs(\u001b[39mself\u001b[39m\u001b[39m.\u001b[39mfilename, exist_ok\u001b[39m=\u001b[39m\u001b[39mTrue\u001b[39;00m)\n\u001b[1;32m     <a href='file:///nethome/yzhuang/git_repo/ENPMDA/ENPMDA/preprocessing/trajectory_preprocessing.py?line=38'>39</a>\u001b[0m \u001b[39mif\u001b[39;00m updating \u001b[39mor\u001b[39;00m \u001b[39mnot\u001b[39;00m os\u001b[39m.\u001b[39mpath\u001b[39m.\u001b[39misfile(\u001b[39mself\u001b[39m\u001b[39m.\u001b[39mfilename \u001b[39m+\u001b[39m \u001b[39m\"\u001b[39m\u001b[39mraw_traj.pickle\u001b[39m\u001b[39m\"\u001b[39m):\n\u001b[0;32m---> <a href='file:///nethome/yzhuang/git_repo/ENPMDA/ENPMDA/preprocessing/trajectory_preprocessing.py?line=39'>40</a>\u001b[0m     \u001b[39mself\u001b[39;49m\u001b[39m.\u001b[39;49mprocessing_ensemble()\n\u001b[1;32m     <a href='file:///nethome/yzhuang/git_repo/ENPMDA/ENPMDA/preprocessing/trajectory_preprocessing.py?line=40'>41</a>\u001b[0m \u001b[39melse\u001b[39;00m:\n\u001b[1;32m     <a href='file:///nethome/yzhuang/git_repo/ENPMDA/ENPMDA/preprocessing/trajectory_preprocessing.py?line=41'>42</a>\u001b[0m     \u001b[39mself\u001b[39m\u001b[39m.\u001b[39mtrajectory_files \u001b[39m=\u001b[39m pickle\u001b[39m.\u001b[39mload(\u001b[39mopen\u001b[39m(\u001b[39mself\u001b[39m\u001b[39m.\u001b[39mfilename \u001b[39m+\u001b[39m \u001b[39m\"\u001b[39m\u001b[39mraw_traj.pickle\u001b[39m\u001b[39m\"\u001b[39m, \u001b[39m\"\u001b[39m\u001b[39mrb\u001b[39m\u001b[39m\"\u001b[39m))\n",
      "File \u001b[0;32m~/git_repo/ENPMDA/ENPMDA/preprocessing/trajectory_preprocessing.py:68\u001b[0m, in \u001b[0;36mTrajectoryEnsemble.processing_ensemble\u001b[0;34m(self)\u001b[0m\n\u001b[1;32m     <a href='file:///nethome/yzhuang/git_repo/ENPMDA/ENPMDA/preprocessing/trajectory_preprocessing.py?line=64'>65</a>\u001b[0m             \u001b[39mprint\u001b[39m(trajectory \u001b[39m+\u001b[39m \u001b[39m'\u001b[39m\u001b[39m on hold.\u001b[39m\u001b[39m'\u001b[39m)\n\u001b[1;32m     <a href='file:///nethome/yzhuang/git_repo/ENPMDA/ENPMDA/preprocessing/trajectory_preprocessing.py?line=65'>66</a>\u001b[0m             load_job_list\u001b[39m.\u001b[39mappend(dask\u001b[39m.\u001b[39mdelayed(\u001b[39mself\u001b[39m\u001b[39m.\u001b[39mload_preprocessing_trajectory)(topology, trajectory))\n\u001b[0;32m---> <a href='file:///nethome/yzhuang/git_repo/ENPMDA/ENPMDA/preprocessing/trajectory_preprocessing.py?line=67'>68</a>\u001b[0m \u001b[39mself\u001b[39m\u001b[39m.\u001b[39mtrajectory_files \u001b[39m=\u001b[39m dask\u001b[39m.\u001b[39;49mcompute(load_job_list)[\u001b[39m0\u001b[39m]\n\u001b[1;32m     <a href='file:///nethome/yzhuang/git_repo/ENPMDA/ENPMDA/preprocessing/trajectory_preprocessing.py?line=68'>69</a>\u001b[0m \u001b[39mprint\u001b[39m(\u001b[39m'\u001b[39m\u001b[39mdask finished\u001b[39m\u001b[39m'\u001b[39m)\n\u001b[1;32m     <a href='file:///nethome/yzhuang/git_repo/ENPMDA/ENPMDA/preprocessing/trajectory_preprocessing.py?line=69'>70</a>\u001b[0m \u001b[39mwith\u001b[39;00m \u001b[39mopen\u001b[39m(\u001b[39mself\u001b[39m\u001b[39m.\u001b[39mfilename \u001b[39m+\u001b[39m \u001b[39m\"\u001b[39m\u001b[39mraw_traj.pickle\u001b[39m\u001b[39m\"\u001b[39m, \u001b[39m\"\u001b[39m\u001b[39mwb\u001b[39m\u001b[39m\"\u001b[39m) \u001b[39mas\u001b[39;00m f:\n",
      "File \u001b[0;32m~/anaconda3/envs/deeplearning/lib/python3.9/site-packages/dask/base.py:575\u001b[0m, in \u001b[0;36mcompute\u001b[0;34m(traverse, optimize_graph, scheduler, get, *args, **kwargs)\u001b[0m\n\u001b[1;32m    <a href='file:///nethome/yzhuang/anaconda3/envs/deeplearning/lib/python3.9/site-packages/dask/base.py?line=571'>572</a>\u001b[0m     keys\u001b[39m.\u001b[39mappend(x\u001b[39m.\u001b[39m__dask_keys__())\n\u001b[1;32m    <a href='file:///nethome/yzhuang/anaconda3/envs/deeplearning/lib/python3.9/site-packages/dask/base.py?line=572'>573</a>\u001b[0m     postcomputes\u001b[39m.\u001b[39mappend(x\u001b[39m.\u001b[39m__dask_postcompute__())\n\u001b[0;32m--> <a href='file:///nethome/yzhuang/anaconda3/envs/deeplearning/lib/python3.9/site-packages/dask/base.py?line=574'>575</a>\u001b[0m results \u001b[39m=\u001b[39m schedule(dsk, keys, \u001b[39m*\u001b[39;49m\u001b[39m*\u001b[39;49mkwargs)\n\u001b[1;32m    <a href='file:///nethome/yzhuang/anaconda3/envs/deeplearning/lib/python3.9/site-packages/dask/base.py?line=575'>576</a>\u001b[0m \u001b[39mreturn\u001b[39;00m repack([f(r, \u001b[39m*\u001b[39ma) \u001b[39mfor\u001b[39;00m r, (f, a) \u001b[39min\u001b[39;00m \u001b[39mzip\u001b[39m(results, postcomputes)])\n",
      "File \u001b[0;32m~/anaconda3/envs/deeplearning/lib/python3.9/site-packages/dask/threaded.py:81\u001b[0m, in \u001b[0;36mget\u001b[0;34m(dsk, result, cache, num_workers, pool, **kwargs)\u001b[0m\n\u001b[1;32m     <a href='file:///nethome/yzhuang/anaconda3/envs/deeplearning/lib/python3.9/site-packages/dask/threaded.py?line=77'>78</a>\u001b[0m     \u001b[39melif\u001b[39;00m \u001b[39misinstance\u001b[39m(pool, multiprocessing\u001b[39m.\u001b[39mpool\u001b[39m.\u001b[39mPool):\n\u001b[1;32m     <a href='file:///nethome/yzhuang/anaconda3/envs/deeplearning/lib/python3.9/site-packages/dask/threaded.py?line=78'>79</a>\u001b[0m         pool \u001b[39m=\u001b[39m MultiprocessingPoolExecutor(pool)\n\u001b[0;32m---> <a href='file:///nethome/yzhuang/anaconda3/envs/deeplearning/lib/python3.9/site-packages/dask/threaded.py?line=80'>81</a>\u001b[0m results \u001b[39m=\u001b[39m get_async(\n\u001b[1;32m     <a href='file:///nethome/yzhuang/anaconda3/envs/deeplearning/lib/python3.9/site-packages/dask/threaded.py?line=81'>82</a>\u001b[0m     pool\u001b[39m.\u001b[39;49msubmit,\n\u001b[1;32m     <a href='file:///nethome/yzhuang/anaconda3/envs/deeplearning/lib/python3.9/site-packages/dask/threaded.py?line=82'>83</a>\u001b[0m     pool\u001b[39m.\u001b[39;49m_max_workers,\n\u001b[1;32m     <a href='file:///nethome/yzhuang/anaconda3/envs/deeplearning/lib/python3.9/site-packages/dask/threaded.py?line=83'>84</a>\u001b[0m     dsk,\n\u001b[1;32m     <a href='file:///nethome/yzhuang/anaconda3/envs/deeplearning/lib/python3.9/site-packages/dask/threaded.py?line=84'>85</a>\u001b[0m     result,\n\u001b[1;32m     <a href='file:///nethome/yzhuang/anaconda3/envs/deeplearning/lib/python3.9/site-packages/dask/threaded.py?line=85'>86</a>\u001b[0m     cache\u001b[39m=\u001b[39;49mcache,\n\u001b[1;32m     <a href='file:///nethome/yzhuang/anaconda3/envs/deeplearning/lib/python3.9/site-packages/dask/threaded.py?line=86'>87</a>\u001b[0m     get_id\u001b[39m=\u001b[39;49m_thread_get_id,\n\u001b[1;32m     <a href='file:///nethome/yzhuang/anaconda3/envs/deeplearning/lib/python3.9/site-packages/dask/threaded.py?line=87'>88</a>\u001b[0m     pack_exception\u001b[39m=\u001b[39;49mpack_exception,\n\u001b[1;32m     <a href='file:///nethome/yzhuang/anaconda3/envs/deeplearning/lib/python3.9/site-packages/dask/threaded.py?line=88'>89</a>\u001b[0m     \u001b[39m*\u001b[39;49m\u001b[39m*\u001b[39;49mkwargs,\n\u001b[1;32m     <a href='file:///nethome/yzhuang/anaconda3/envs/deeplearning/lib/python3.9/site-packages/dask/threaded.py?line=89'>90</a>\u001b[0m )\n\u001b[1;32m     <a href='file:///nethome/yzhuang/anaconda3/envs/deeplearning/lib/python3.9/site-packages/dask/threaded.py?line=91'>92</a>\u001b[0m \u001b[39m# Cleanup pools associated to dead threads\u001b[39;00m\n\u001b[1;32m     <a href='file:///nethome/yzhuang/anaconda3/envs/deeplearning/lib/python3.9/site-packages/dask/threaded.py?line=92'>93</a>\u001b[0m \u001b[39mwith\u001b[39;00m pools_lock:\n",
      "File \u001b[0;32m~/anaconda3/envs/deeplearning/lib/python3.9/site-packages/dask/local.py:508\u001b[0m, in \u001b[0;36mget_async\u001b[0;34m(submit, num_workers, dsk, result, cache, get_id, rerun_exceptions_locally, pack_exception, raise_exception, callbacks, dumps, loads, chunksize, **kwargs)\u001b[0m\n\u001b[1;32m    <a href='file:///nethome/yzhuang/anaconda3/envs/deeplearning/lib/python3.9/site-packages/dask/local.py?line=505'>506</a>\u001b[0m         _execute_task(task, data)  \u001b[39m# Re-execute locally\u001b[39;00m\n\u001b[1;32m    <a href='file:///nethome/yzhuang/anaconda3/envs/deeplearning/lib/python3.9/site-packages/dask/local.py?line=506'>507</a>\u001b[0m     \u001b[39melse\u001b[39;00m:\n\u001b[0;32m--> <a href='file:///nethome/yzhuang/anaconda3/envs/deeplearning/lib/python3.9/site-packages/dask/local.py?line=507'>508</a>\u001b[0m         raise_exception(exc, tb)\n\u001b[1;32m    <a href='file:///nethome/yzhuang/anaconda3/envs/deeplearning/lib/python3.9/site-packages/dask/local.py?line=508'>509</a>\u001b[0m res, worker_id \u001b[39m=\u001b[39m loads(res_info)\n\u001b[1;32m    <a href='file:///nethome/yzhuang/anaconda3/envs/deeplearning/lib/python3.9/site-packages/dask/local.py?line=509'>510</a>\u001b[0m state[\u001b[39m\"\u001b[39m\u001b[39mcache\u001b[39m\u001b[39m\"\u001b[39m][key] \u001b[39m=\u001b[39m res\n",
      "File \u001b[0;32m~/anaconda3/envs/deeplearning/lib/python3.9/site-packages/dask/local.py:316\u001b[0m, in \u001b[0;36mreraise\u001b[0;34m(exc, tb)\u001b[0m\n\u001b[1;32m    <a href='file:///nethome/yzhuang/anaconda3/envs/deeplearning/lib/python3.9/site-packages/dask/local.py?line=313'>314</a>\u001b[0m \u001b[39mif\u001b[39;00m exc\u001b[39m.\u001b[39m__traceback__ \u001b[39mis\u001b[39;00m \u001b[39mnot\u001b[39;00m tb:\n\u001b[1;32m    <a href='file:///nethome/yzhuang/anaconda3/envs/deeplearning/lib/python3.9/site-packages/dask/local.py?line=314'>315</a>\u001b[0m     \u001b[39mraise\u001b[39;00m exc\u001b[39m.\u001b[39mwith_traceback(tb)\n\u001b[0;32m--> <a href='file:///nethome/yzhuang/anaconda3/envs/deeplearning/lib/python3.9/site-packages/dask/local.py?line=315'>316</a>\u001b[0m \u001b[39mraise\u001b[39;00m exc\n",
      "File \u001b[0;32m~/anaconda3/envs/deeplearning/lib/python3.9/site-packages/dask/local.py:221\u001b[0m, in \u001b[0;36mexecute_task\u001b[0;34m(key, task_info, dumps, loads, get_id, pack_exception)\u001b[0m\n\u001b[1;32m    <a href='file:///nethome/yzhuang/anaconda3/envs/deeplearning/lib/python3.9/site-packages/dask/local.py?line=218'>219</a>\u001b[0m \u001b[39mtry\u001b[39;00m:\n\u001b[1;32m    <a href='file:///nethome/yzhuang/anaconda3/envs/deeplearning/lib/python3.9/site-packages/dask/local.py?line=219'>220</a>\u001b[0m     task, data \u001b[39m=\u001b[39m loads(task_info)\n\u001b[0;32m--> <a href='file:///nethome/yzhuang/anaconda3/envs/deeplearning/lib/python3.9/site-packages/dask/local.py?line=220'>221</a>\u001b[0m     result \u001b[39m=\u001b[39m _execute_task(task, data)\n\u001b[1;32m    <a href='file:///nethome/yzhuang/anaconda3/envs/deeplearning/lib/python3.9/site-packages/dask/local.py?line=221'>222</a>\u001b[0m     \u001b[39mid\u001b[39m \u001b[39m=\u001b[39m get_id()\n\u001b[1;32m    <a href='file:///nethome/yzhuang/anaconda3/envs/deeplearning/lib/python3.9/site-packages/dask/local.py?line=222'>223</a>\u001b[0m     result \u001b[39m=\u001b[39m dumps((result, \u001b[39mid\u001b[39m))\n",
      "File \u001b[0;32m~/anaconda3/envs/deeplearning/lib/python3.9/site-packages/dask/core.py:119\u001b[0m, in \u001b[0;36m_execute_task\u001b[0;34m(arg, cache, dsk)\u001b[0m\n\u001b[1;32m    <a href='file:///nethome/yzhuang/anaconda3/envs/deeplearning/lib/python3.9/site-packages/dask/core.py?line=114'>115</a>\u001b[0m     func, args \u001b[39m=\u001b[39m arg[\u001b[39m0\u001b[39m], arg[\u001b[39m1\u001b[39m:]\n\u001b[1;32m    <a href='file:///nethome/yzhuang/anaconda3/envs/deeplearning/lib/python3.9/site-packages/dask/core.py?line=115'>116</a>\u001b[0m     \u001b[39m# Note: Don't assign the subtask results to a variable. numpy detects\u001b[39;00m\n\u001b[1;32m    <a href='file:///nethome/yzhuang/anaconda3/envs/deeplearning/lib/python3.9/site-packages/dask/core.py?line=116'>117</a>\u001b[0m     \u001b[39m# temporaries by their reference count and can execute certain\u001b[39;00m\n\u001b[1;32m    <a href='file:///nethome/yzhuang/anaconda3/envs/deeplearning/lib/python3.9/site-packages/dask/core.py?line=117'>118</a>\u001b[0m     \u001b[39m# operations in-place.\u001b[39;00m\n\u001b[0;32m--> <a href='file:///nethome/yzhuang/anaconda3/envs/deeplearning/lib/python3.9/site-packages/dask/core.py?line=118'>119</a>\u001b[0m     \u001b[39mreturn\u001b[39;00m func(\u001b[39m*\u001b[39;49m(_execute_task(a, cache) \u001b[39mfor\u001b[39;49;00m a \u001b[39min\u001b[39;49;00m args))\n\u001b[1;32m    <a href='file:///nethome/yzhuang/anaconda3/envs/deeplearning/lib/python3.9/site-packages/dask/core.py?line=119'>120</a>\u001b[0m \u001b[39melif\u001b[39;00m \u001b[39mnot\u001b[39;00m ishashable(arg):\n\u001b[1;32m    <a href='file:///nethome/yzhuang/anaconda3/envs/deeplearning/lib/python3.9/site-packages/dask/core.py?line=120'>121</a>\u001b[0m     \u001b[39mreturn\u001b[39;00m arg\n",
      "File \u001b[0;32m~/git_repo/ENPMDA/ENPMDA/preprocessing/trajectory_preprocessing.py:145\u001b[0m, in \u001b[0;36mTrajectoryEnsemble.preprocessing_raw_trajectory\u001b[0;34m(self, topology, trajectory)\u001b[0m\n\u001b[1;32m    <a href='file:///nethome/yzhuang/git_repo/ENPMDA/ENPMDA/preprocessing/trajectory_preprocessing.py?line=141'>142</a>\u001b[0m     pickle\u001b[39m.\u001b[39mdump(u, f)\n\u001b[1;32m    <a href='file:///nethome/yzhuang/git_repo/ENPMDA/ENPMDA/preprocessing/trajectory_preprocessing.py?line=143'>144</a>\u001b[0m \u001b[39mdel\u001b[39;00m u\n\u001b[0;32m--> <a href='file:///nethome/yzhuang/git_repo/ENPMDA/ENPMDA/preprocessing/trajectory_preprocessing.py?line=144'>145</a>\u001b[0m \u001b[39mdel\u001b[39;00m u_bond\n\u001b[1;32m    <a href='file:///nethome/yzhuang/git_repo/ENPMDA/ENPMDA/preprocessing/trajectory_preprocessing.py?line=145'>146</a>\u001b[0m gc\u001b[39m.\u001b[39mcollect()\n\u001b[1;32m    <a href='file:///nethome/yzhuang/git_repo/ENPMDA/ENPMDA/preprocessing/trajectory_preprocessing.py?line=146'>147</a>\u001b[0m \u001b[39mreturn\u001b[39;00m \u001b[39mself\u001b[39m\u001b[39m.\u001b[39mfilename \u001b[39m+\u001b[39m \u001b[39m'\u001b[39m\u001b[39m_\u001b[39m\u001b[39m'\u001b[39m\u001b[39m.\u001b[39mjoin(trajectory\u001b[39m.\u001b[39msplit(\u001b[39m'\u001b[39m\u001b[39m/\u001b[39m\u001b[39m'\u001b[39m)) \u001b[39m+\u001b[39m \u001b[39m'\u001b[39m\u001b[39m.pickle\u001b[39m\u001b[39m'\u001b[39m\n",
      "\u001b[0;31mUnboundLocalError\u001b[0m: local variable 'u_bond' referenced before assignment"
     ]
    }
   ],
   "source": [
    "traj_ensembles = TrajectoryEnsemble(ensemble_name='test_climber',\n",
    "                                    topology_list=topology_list,\n",
    "                                    trajectory_list=trajectory_list)"
   ]
  },
  {
   "cell_type": "code",
   "execution_count": 7,
   "metadata": {},
   "outputs": [
    {
     "data": {
      "text/plain": [
       "'/nethome/yzhuang/git_repo/ENPMDA/tests/ENPMDATests/datafile/climber'"
      ]
     },
     "execution_count": 7,
     "metadata": {},
     "output_type": "execute_result"
    }
   ],
   "source": [
    "os.path.dirname(CLIMBER_BGT_EPJ_TRANSITION)"
   ]
  },
  {
   "cell_type": "code",
   "execution_count": 2,
   "metadata": {},
   "outputs": [],
   "source": [
    "md_dataframe = MDDataFrame()"
   ]
  },
  {
   "cell_type": "code",
   "execution_count": 3,
   "metadata": {},
   "outputs": [
    {
     "data": {
      "text/plain": [
       "<ENPMDA.ENPMDA.MDDataFrame at 0x7f82af0f20a0>"
      ]
     },
     "execution_count": 3,
     "metadata": {},
     "output_type": "execute_result"
    }
   ],
   "source": [
    "md_dataframe.add_traj_ensemble("
   ]
  },
  {
   "cell_type": "code",
   "execution_count": null,
   "metadata": {},
   "outputs": [],
   "source": []
  }
 ],
 "metadata": {
  "interpreter": {
   "hash": "8ee8c53404dc23d51e7b542ee493e07a5c192c0c74b5268593435bad2c059391"
  },
  "kernelspec": {
   "display_name": "Python 3.9.0 ('deeplearning': conda)",
   "language": "python",
   "name": "python3"
  },
  "language_info": {
   "codemirror_mode": {
    "name": "ipython",
    "version": 3
   },
   "file_extension": ".py",
   "mimetype": "text/x-python",
   "name": "python",
   "nbconvert_exporter": "python",
   "pygments_lexer": "ipython3",
   "version": "3.9.0"
  },
  "orig_nbformat": 4
 },
 "nbformat": 4,
 "nbformat_minor": 2
}
