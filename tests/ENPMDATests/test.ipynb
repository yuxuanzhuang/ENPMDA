{
 "cells": [
  {
   "cell_type": "code",
   "execution_count": 1,
   "metadata": {},
   "outputs": [],
   "source": [
    "from ENPMDA import MDDataFrame\n",
    "from ENPMDA.preprocessing import TrajectoryEnsemble\n",
    "from ENPMDATests.datafiles import *"
   ]
  },
  {
   "cell_type": "code",
   "execution_count": 2,
   "metadata": {},
   "outputs": [],
   "source": [
    "topology_list = [CLIMBER_BGT_EPJ, CLIMBER_BGT_EPJPNU,\n",
    "                 CLIMBER_EPJPNU_BGT, CLIMBER_EPJPNU_EPJ,\n",
    "                 CLIMBER_EPJ_BGT, CLIMBER_EPJ_EPJPNU]\n",
    "\n",
    "trajectory_list = [CLIMBER_BGT_EPJ_TRANSITION, CLIMBER_BGT_EPJPNU_TRANSITION,\n",
    "                 CLIMBER_EPJPNU_BGT_TRANSITION, CLIMBER_EPJPNU_EPJ_TRANSITION,\n",
    "                 CLIMBER_EPJ_BGT_TRANSITION, CLIMBER_EPJ_EPJPNU_TRANSITION]"
   ]
  },
  {
   "cell_type": "code",
   "execution_count": 3,
   "metadata": {},
   "outputs": [
    {
     "name": "stdout",
     "output_type": "stream",
     "text": [
      "Provided topology file is not a .tpr file. \n",
      " PBC and chain cannot be fixed.\n"
     ]
    }
   ],
   "source": [
    "traj_ensembles = TrajectoryEnsemble(ensemble_name='test_climber',\n",
    "                                    topology_list=topology_list,\n",
    "                                    trajectory_list=trajectory_list,\n",
    "                                    updating=False)"
   ]
  },
  {
   "cell_type": "code",
   "execution_count": 4,
   "metadata": {},
   "outputs": [],
   "source": [
    "md_dataframe = MDDataFrame()"
   ]
  },
  {
   "cell_type": "code",
   "execution_count": 5,
   "metadata": {},
   "outputs": [
    {
     "name": "stderr",
     "output_type": "stream",
     "text": [
      "/nethome/yzhuang/mdanalysis/package/MDAnalysis/lib/mdamath.py:293: RuntimeWarning: invalid value encountered in double_scalars\n",
      "  alpha = np.rad2deg(np.arccos(np.dot(y, z) / (ly * lz)))\n",
      "/nethome/yzhuang/mdanalysis/package/MDAnalysis/lib/mdamath.py:294: RuntimeWarning: invalid value encountered in double_scalars\n",
      "  beta = np.rad2deg(np.arccos(np.dot(x, z) / (lx * lz)))\n",
      "/nethome/yzhuang/mdanalysis/package/MDAnalysis/lib/mdamath.py:295: RuntimeWarning: invalid value encountered in double_scalars\n",
      "  gamma = np.rad2deg(np.arccos(np.dot(x, y) / (lx * ly)))\n"
     ]
    },
    {
     "name": "stdout",
     "output_type": "stream",
     "text": [
      "Dask dataframe generated with 10 partitions\n"
     ]
    }
   ],
   "source": [
    "md_dataframe.add_traj_ensemble(traj_ensembles, npartitions=10)"
   ]
  }
 ],
 "metadata": {
  "interpreter": {
   "hash": "8ee8c53404dc23d51e7b542ee493e07a5c192c0c74b5268593435bad2c059391"
  },
  "kernelspec": {
   "display_name": "Python 3.9.0 ('deeplearning': conda)",
   "language": "python",
   "name": "python3"
  },
  "language_info": {
   "codemirror_mode": {
    "name": "ipython",
    "version": 3
   },
   "file_extension": ".py",
   "mimetype": "text/x-python",
   "name": "python",
   "nbconvert_exporter": "python",
   "pygments_lexer": "ipython3",
   "version": "3.9.0"
  },
  "orig_nbformat": 4
 },
 "nbformat": 4,
 "nbformat_minor": 2
}
