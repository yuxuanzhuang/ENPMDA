{
 "cells": [
  {
   "cell_type": "code",
   "execution_count": null,
   "metadata": {},
   "outputs": [],
   "source": [
    "import dask\n",
    "from dask.distributed import Client, LocalCluster\n",
    "from msm_a7_nachrs.dask_worker.dask_cluster_tcbcluster import ip_address, add_workers\n",
    "\n",
    "cluster = LocalCluster(n_workers=32, ip=ip_address,scheduler_port=8786,\n",
    "                      memory_limit='auto')\n",
    "client = Client(cluster)\n",
    "client"
   ]
  },
  {
   "cell_type": "code",
   "execution_count": 1,
   "metadata": {},
   "outputs": [],
   "source": [
    "from ENPMDA import MDDataFrame\n",
    "from ENPMDA.preprocessing import TrajectoryEnsemble\n",
    "from ENPMDATests.datafiles import *"
   ]
  },
  {
   "cell_type": "code",
   "execution_count": 2,
   "metadata": {},
   "outputs": [],
   "source": [
    "topology_list = [CLIMBER_BGT_EPJ, CLIMBER_BGT_EPJPNU,\n",
    "                 CLIMBER_EPJPNU_BGT, CLIMBER_EPJPNU_EPJ,\n",
    "                 CLIMBER_EPJ_BGT, CLIMBER_EPJ_EPJPNU]\n",
    "\n",
    "trajectory_list = [CLIMBER_BGT_EPJ_TRANSITION, CLIMBER_BGT_EPJPNU_TRANSITION,\n",
    "                 CLIMBER_EPJPNU_BGT_TRANSITION, CLIMBER_EPJPNU_EPJ_TRANSITION,\n",
    "                 CLIMBER_EPJ_BGT_TRANSITION, CLIMBER_EPJ_EPJPNU_TRANSITION]"
   ]
  },
  {
   "cell_type": "code",
   "execution_count": 3,
   "metadata": {},
   "outputs": [
    {
     "name": "stdout",
     "output_type": "stream",
     "text": [
      "Provided topology file is not a .tpr file. \n",
      " PBC and chain cannot be fixed.\n"
     ]
    }
   ],
   "source": [
    "traj_ensembles = TrajectoryEnsemble(ensemble_name='test_climber',\n",
    "                                    topology_list=topology_list,\n",
    "                                    trajectory_list=trajectory_list,\n",
    "                                    updating=False)"
   ]
  },
  {
   "cell_type": "code",
   "execution_count": 4,
   "metadata": {},
   "outputs": [],
   "source": [
    "md_dataframe = MDDataFrame('test_md_dataframe')"
   ]
  },
  {
   "cell_type": "code",
   "execution_count": 5,
   "metadata": {},
   "outputs": [
    {
     "name": "stderr",
     "output_type": "stream",
     "text": [
      "/nethome/yzhuang/mdanalysis/package/MDAnalysis/lib/mdamath.py:293: RuntimeWarning: invalid value encountered in double_scalars\n",
      "  alpha = np.rad2deg(np.arccos(np.dot(y, z) / (ly * lz)))\n",
      "/nethome/yzhuang/mdanalysis/package/MDAnalysis/lib/mdamath.py:294: RuntimeWarning: invalid value encountered in double_scalars\n",
      "  beta = np.rad2deg(np.arccos(np.dot(x, z) / (lx * lz)))\n",
      "/nethome/yzhuang/mdanalysis/package/MDAnalysis/lib/mdamath.py:295: RuntimeWarning: invalid value encountered in double_scalars\n",
      "  gamma = np.rad2deg(np.arccos(np.dot(x, y) / (lx * ly)))\n"
     ]
    },
    {
     "name": "stdout",
     "output_type": "stream",
     "text": [
      "Dask dataframe generated with 10 partitions\n"
     ]
    }
   ],
   "source": [
    "md_dataframe.add_traj_ensemble(traj_ensembles, npartitions=10)"
   ]
  },
  {
   "cell_type": "code",
   "execution_count": 6,
   "metadata": {},
   "outputs": [
    {
     "data": {
      "text/plain": [
       "10"
      ]
     },
     "execution_count": 6,
     "metadata": {},
     "output_type": "execute_result"
    }
   ],
   "source": [
    "md_dataframe.dd_dataframe.npartitions"
   ]
  },
  {
   "cell_type": "code",
   "execution_count": 6,
   "metadata": {},
   "outputs": [],
   "source": [
    "from ENPMDA.analysis.analysis import *"
   ]
  },
  {
   "cell_type": "code",
   "execution_count": 7,
   "metadata": {},
   "outputs": [
    {
     "name": "stderr",
     "output_type": "stream",
     "text": [
      "/nethome/yzhuang/mdanalysis/package/MDAnalysis/lib/mdamath.py:293: RuntimeWarning: invalid value encountered in double_scalars\n",
      "  alpha = np.rad2deg(np.arccos(np.dot(y, z) / (ly * lz)))\n",
      "/nethome/yzhuang/mdanalysis/package/MDAnalysis/lib/mdamath.py:294: RuntimeWarning: invalid value encountered in double_scalars\n",
      "  beta = np.rad2deg(np.arccos(np.dot(x, z) / (lx * lz)))\n",
      "/nethome/yzhuang/mdanalysis/package/MDAnalysis/lib/mdamath.py:295: RuntimeWarning: invalid value encountered in double_scalars\n",
      "  gamma = np.rad2deg(np.arccos(np.dot(x, y) / (lx * ly)))\n"
     ]
    }
   ],
   "source": [
    "md_dataframe.add_analysis(get_rmsd_init)"
   ]
  },
  {
   "cell_type": "code",
   "execution_count": 11,
   "metadata": {},
   "outputs": [
    {
     "name": "stderr",
     "output_type": "stream",
     "text": [
      "/nethome/yzhuang/git_repo/ENPMDA/ENPMDA/ENPMDA.py:117: UserWarning: Analysis torsion already added, overwriting!\n",
      "  warnings.warn(f'Analysis {analysis.name} already added, overwriting!')\n",
      "/nethome/yzhuang/mdanalysis/package/MDAnalysis/lib/mdamath.py:293: RuntimeWarning: invalid value encountered in double_scalars\n",
      "  alpha = np.rad2deg(np.arccos(np.dot(y, z) / (ly * lz)))\n",
      "/nethome/yzhuang/mdanalysis/package/MDAnalysis/lib/mdamath.py:294: RuntimeWarning: invalid value encountered in double_scalars\n",
      "  beta = np.rad2deg(np.arccos(np.dot(x, z) / (lx * lz)))\n",
      "/nethome/yzhuang/mdanalysis/package/MDAnalysis/lib/mdamath.py:295: RuntimeWarning: invalid value encountered in double_scalars\n",
      "  gamma = np.rad2deg(np.arccos(np.dot(x, y) / (lx * ly)))\n"
     ]
    }
   ],
   "source": [
    "md_dataframe.add_analysis(get_backbonetorsion, overwrite=True)"
   ]
  },
  {
   "cell_type": "code",
   "execution_count": 12,
   "metadata": {},
   "outputs": [
    {
     "data": {
      "text/plain": [
       "['rmsd_to_init', 'torsion']"
      ]
     },
     "execution_count": 12,
     "metadata": {},
     "output_type": "execute_result"
    }
   ],
   "source": [
    "md_dataframe.analysis_list"
   ]
  },
  {
   "cell_type": "code",
   "execution_count": 16,
   "metadata": {},
   "outputs": [],
   "source": [
    "md_dataframe.save('test_climber')"
   ]
  },
  {
   "cell_type": "code",
   "execution_count": 4,
   "metadata": {},
   "outputs": [
    {
     "ename": "ModuleNotFoundError",
     "evalue": "No module named 'pathlib.Path'; 'pathlib' is not a package",
     "output_type": "error",
     "traceback": [
      "\u001b[0;31m---------------------------------------------------------------------------\u001b[0m",
      "\u001b[0;31mModuleNotFoundError\u001b[0m                       Traceback (most recent call last)",
      "\u001b[1;32m/nethome/yzhuang/git_repo/ENPMDA/tests/ENPMDATests/test.ipynb Cell 13'\u001b[0m in \u001b[0;36m<cell line: 1>\u001b[0;34m()\u001b[0m\n\u001b[0;32m----> <a href='vscode-notebook-cell://ssh-remote%2Bcpu02/nethome/yzhuang/git_repo/ENPMDA/tests/ENPMDATests/test.ipynb#ch0000014vscode-remote?line=0'>1</a>\u001b[0m \u001b[39mfrom\u001b[39;00m \u001b[39mpathlib\u001b[39;00m\u001b[39m.\u001b[39;00m\u001b[39mPath\u001b[39;00m \u001b[39mimport\u001b[39;00m tmp_path\n",
      "\u001b[0;31mModuleNotFoundError\u001b[0m: No module named 'pathlib.Path'; 'pathlib' is not a package"
     ]
    }
   ],
   "source": [
    "from pathlib.Path import tmp_path\n"
   ]
  },
  {
   "cell_type": "code",
   "execution_count": null,
   "metadata": {},
   "outputs": [],
   "source": []
  }
 ],
 "metadata": {
  "interpreter": {
   "hash": "8ee8c53404dc23d51e7b542ee493e07a5c192c0c74b5268593435bad2c059391"
  },
  "kernelspec": {
   "display_name": "Python 3.9.0 ('deeplearning': conda)",
   "language": "python",
   "name": "python3"
  },
  "language_info": {
   "codemirror_mode": {
    "name": "ipython",
    "version": 3
   },
   "file_extension": ".py",
   "mimetype": "text/x-python",
   "name": "python",
   "nbconvert_exporter": "python",
   "pygments_lexer": "ipython3",
   "version": "3.9.0"
  },
  "orig_nbformat": 4
 },
 "nbformat": 4,
 "nbformat_minor": 2
}
