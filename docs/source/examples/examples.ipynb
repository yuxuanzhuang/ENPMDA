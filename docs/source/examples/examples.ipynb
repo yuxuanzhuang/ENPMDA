{
 "cells": [
  {
   "cell_type": "markdown",
   "metadata": {},
   "source": [
    "<a href=\"https://colab.research.google.com/github/yuxuanzhuang/ENPMDA/blob/main/docs/source/examples/examples.ipynb\" target=\"_parent\"><img src=https://colab.research.google.com/assets/colab-badge.svg>\n",
    "\n",
    "[open in colab](https://colab.research.google.com/github/yuxuanzhuang/ENPMDA/blob/main/docs/source/examples/examples.ipynb)"
   ]
  },
  {
   "cell_type": "markdown",
   "metadata": {},
   "source": [
    "# ENPMDA Usage"
   ]
  },
  {
   "cell_type": "code",
   "execution_count": 1,
   "metadata": {},
   "outputs": [],
   "source": [
    "# uncomment these lines if the package is not installed.\n",
    "# !pip install -e \"git+https://github.com/yuxuanzhuang/enpmda\"\n",
    "# !pip install -e \"git+https://github.com/yuxuanzhuang/enpmda#subdirectory=tests\"\n",
    "# !pip install IProgress\n",
    "# !pip install seaborn"
   ]
  },
  {
   "cell_type": "code",
   "execution_count": null,
   "metadata": {},
   "outputs": [],
   "source": [
    "# In colab, only two cores are available.\n",
    "# To run the examples, you need to use your local runtime:\n",
    "\n",
    "import numpy as np\n",
    "\n",
    "import dask\n",
    "from dask.distributed import Client, LocalCluster\n",
    "\n",
    "cluster = LocalCluster(n_workers=16, scheduler_port=8786,\n",
    "                      memory_limit='auto')\n",
    "client = Client(cluster)\n",
    "client"
   ]
  },
  {
   "cell_type": "markdown",
   "metadata": {},
   "source": [
    "## Construct trajectory ensemble"
   ]
  },
  {
   "cell_type": "code",
   "execution_count": 3,
   "metadata": {},
   "outputs": [],
   "source": [
    "from ENPMDA import MDDataFrame\n",
    "from ENPMDA.preprocessing import TrajectoryEnsemble\n",
    "from ENPMDATests.datafiles import (\n",
    "    ensemble_ala_bonded,\n",
    "    ensemble_ala_traj,\n",
    "    ensemble_ala_top\n",
    ")"
   ]
  },
  {
   "cell_type": "code",
   "execution_count": 4,
   "metadata": {},
   "outputs": [],
   "source": [
    "# add tmp folder to path for testing\n",
    "import tempfile\n",
    "tempdir = tempfile.mkdtemp()"
   ]
  },
  {
   "cell_type": "markdown",
   "metadata": {},
   "source": [
    "If `only_raw` is set to `False`, preprocessed trajectories for both protein and system will be written in the same directory of the raw trajectory. Define `skip` to skip frames in the written trajectories.\n",
    "\n",
    "If `only_raw` is set to `True`, no trajectories for protein and system will be extracted and saved. This is good for a quick inspection of on-going raw trajectories. It could also be useful if you already have preprocessed trajectories that need no further coordinate transformations. Note `skip` will be ignored in these cases; define `stride` instead later on when you `add_traj_ensemble` to the dataframe.\n",
    "\n",
    "\n",
    "Note the speed of on-the-fly transformations is really slow for large systems and I\n",
    "recommend patching https://github.com/MDAnalysis/mdanalysis/pull/3169\n",
    "to your MDAnalysis installation."
   ]
  },
  {
   "cell_type": "code",
   "execution_count": 7,
   "metadata": {},
   "outputs": [],
   "source": [
    "traj_ensemble = TrajectoryEnsemble(ensemble_name=tempdir + '/test_ensemble',\n",
    "                                    topology_list=ensemble_ala_top,\n",
    "                                    trajectory_list=ensemble_ala_traj,\n",
    "                                    bonded_topology_list=ensemble_ala_bonded,\n",
    "                                    skip=1,\n",
    "                                    updating=False,\n",
    "                                    only_raw=False)\n",
    "traj_ensemble.load_ensemble()"
   ]
  },
  {
   "cell_type": "markdown",
   "metadata": {},
   "source": [
    "Both loading and saving can be done in parallel."
   ]
  },
  {
   "cell_type": "markdown",
   "metadata": {},
   "source": [
    "![dask task stream for trajectory preprocessing](./preprocessing_traj.png)"
   ]
  },
  {
   "cell_type": "markdown",
   "metadata": {},
   "source": [
    "## Construct ENPMDA dataframe"
   ]
  },
  {
   "cell_type": "code",
   "execution_count": 8,
   "metadata": {},
   "outputs": [],
   "source": [
    "md_dataframe = MDDataFrame(dataframe_name=tempdir + '/test_dataframe')"
   ]
  },
  {
   "cell_type": "markdown",
   "metadata": {},
   "source": [
    "`npartitions` defined how many blocks you want to split your whole ensemble. It could be set to the number of cores you have.\n",
    "`stride` is the frame interval between two consecutive frames to be analyzed."
   ]
  },
  {
   "cell_type": "code",
   "execution_count": 9,
   "metadata": {},
   "outputs": [
    {
     "name": "stdout",
     "output_type": "stream",
     "text": [
      "Dask dataframe generated with 16 partitions\n"
     ]
    }
   ],
   "source": [
    "md_dataframe.add_traj_ensemble(traj_ensemble,\n",
    "                               npartitions=16,\n",
    "                               stride=1)"
   ]
  },
  {
   "cell_type": "code",
   "execution_count": 10,
   "metadata": {},
   "outputs": [],
   "source": [
    "from ENPMDA.analysis import (\n",
    "    DaskChunkMdanalysis,\n",
    "    get_rmsd_init,\n",
    "    get_backbonetorsion,\n",
    "    get_atomic_position,\n",
    "    get_protein_hydration,\n",
    ")"
   ]
  },
  {
   "cell_type": "markdown",
   "metadata": {},
   "source": [
    "The custom analysis should subclass `DaskChunkMdanalysis` and define `set_feature_info` and `run_analysis`. (Read the documentation of `DaskChunkMdanalysis` for more details.)\n",
    "\n",
    "The analysis can be a very simple wrapper of the default MDAnalysis analysis, e.g."
   ]
  },
  {
   "cell_type": "code",
   "execution_count": 11,
   "metadata": {},
   "outputs": [],
   "source": [
    "from MDAnalysis.analysis.rms import RMSD\n",
    "\n",
    "class get_rmsd_init(DaskChunkMdanalysis):\n",
    "    name = 'rmsd_to_init'\n",
    "\n",
    "    def set_feature_info(self, universe):\n",
    "        return ['rmsd_to_init']\n",
    "\n",
    "    def run_analysis(self, universe, start, stop, step):\n",
    "\n",
    "        name_backbone = universe.select_atoms('backbone')\n",
    "        rmsd = RMSD(name_backbone, name_backbone).run(start, stop, step)\n",
    "        return rmsd.results['rmsd'].T[2]"
   ]
  },
  {
   "cell_type": "markdown",
   "metadata": {},
   "source": [
    "A sanity check will be performed to ensure that the analysis raises no error.\n",
    "\n",
    "The parallel analysis will be actively done in the background so one can still coding in the notebook.\n",
    "\n",
    "The name for extracting features later on will be printed."
   ]
  },
  {
   "cell_type": "code",
   "execution_count": 12,
   "metadata": {},
   "outputs": [
    {
     "name": "stdout",
     "output_type": "stream",
     "text": [
      "Analysis rmsd_to_init added\n",
      "Analysis torsion added\n",
      "Analysis at_position added\n",
      "Analysis protein_hydration added\n"
     ]
    }
   ],
   "source": [
    "md_dataframe.add_analysis(get_rmsd_init)\n",
    "md_dataframe.add_analysis(get_backbonetorsion)\n",
    "md_dataframe.add_analysis(get_atomic_position)\n",
    "md_dataframe.add_analysis(get_protein_hydration)"
   ]
  },
  {
   "cell_type": "markdown",
   "metadata": {},
   "source": [
    "All the analysis can be run in parallel."
   ]
  },
  {
   "cell_type": "markdown",
   "metadata": {},
   "source": [
    "![dask task stream for analysis](./analysis_parallel.png)"
   ]
  },
  {
   "cell_type": "code",
   "execution_count": 13,
   "metadata": {},
   "outputs": [],
   "source": [
    "md_dataframe.save('test_analysis')"
   ]
  },
  {
   "cell_type": "code",
   "execution_count": 14,
   "metadata": {},
   "outputs": [
    {
     "data": {
      "text/html": [
       "<div>\n",
       "<style scoped>\n",
       "    .dataframe tbody tr th:only-of-type {\n",
       "        vertical-align: middle;\n",
       "    }\n",
       "\n",
       "    .dataframe tbody tr th {\n",
       "        vertical-align: top;\n",
       "    }\n",
       "\n",
       "    .dataframe thead th {\n",
       "        text-align: right;\n",
       "    }\n",
       "</style>\n",
       "<table border=\"1\" class=\"dataframe\">\n",
       "  <thead>\n",
       "    <tr style=\"text-align: right;\">\n",
       "      <th></th>\n",
       "      <th>universe_protein</th>\n",
       "      <th>universe_system</th>\n",
       "      <th>system</th>\n",
       "      <th>traj_name</th>\n",
       "      <th>frame</th>\n",
       "      <th>traj_time</th>\n",
       "      <th>stride</th>\n",
       "      <th>rmsd_to_init</th>\n",
       "      <th>torsion</th>\n",
       "      <th>at_position</th>\n",
       "      <th>protein_hydration</th>\n",
       "    </tr>\n",
       "  </thead>\n",
       "  <tbody>\n",
       "    <tr>\n",
       "      <th>0</th>\n",
       "      <td>/tmp/tmpm0u3v0_s/test_ensemble/_nethome_yzhuan...</td>\n",
       "      <td>/tmp/tmpm0u3v0_s/test_ensemble/_nethome_yzhuan...</td>\n",
       "      <td>0</td>\n",
       "      <td>/nethome/yzhuang/git_repo/ENPMDA/tests/ENPMDAT...</td>\n",
       "      <td>0</td>\n",
       "      <td>0.0</td>\n",
       "      <td>1</td>\n",
       "      <td>/tmp/tmpm0u3v0_s/test_dataframe//analysis_resu...</td>\n",
       "      <td>/tmp/tmpm0u3v0_s/test_dataframe//analysis_resu...</td>\n",
       "      <td>/tmp/tmpm0u3v0_s/test_dataframe//analysis_resu...</td>\n",
       "      <td>/tmp/tmpm0u3v0_s/test_dataframe//analysis_resu...</td>\n",
       "    </tr>\n",
       "    <tr>\n",
       "      <th>1</th>\n",
       "      <td>/tmp/tmpm0u3v0_s/test_ensemble/_nethome_yzhuan...</td>\n",
       "      <td>/tmp/tmpm0u3v0_s/test_ensemble/_nethome_yzhuan...</td>\n",
       "      <td>0</td>\n",
       "      <td>/nethome/yzhuang/git_repo/ENPMDA/tests/ENPMDAT...</td>\n",
       "      <td>1</td>\n",
       "      <td>2.0</td>\n",
       "      <td>1</td>\n",
       "      <td>/tmp/tmpm0u3v0_s/test_dataframe//analysis_resu...</td>\n",
       "      <td>/tmp/tmpm0u3v0_s/test_dataframe//analysis_resu...</td>\n",
       "      <td>/tmp/tmpm0u3v0_s/test_dataframe//analysis_resu...</td>\n",
       "      <td>/tmp/tmpm0u3v0_s/test_dataframe//analysis_resu...</td>\n",
       "    </tr>\n",
       "    <tr>\n",
       "      <th>2</th>\n",
       "      <td>/tmp/tmpm0u3v0_s/test_ensemble/_nethome_yzhuan...</td>\n",
       "      <td>/tmp/tmpm0u3v0_s/test_ensemble/_nethome_yzhuan...</td>\n",
       "      <td>0</td>\n",
       "      <td>/nethome/yzhuang/git_repo/ENPMDA/tests/ENPMDAT...</td>\n",
       "      <td>2</td>\n",
       "      <td>4.0</td>\n",
       "      <td>1</td>\n",
       "      <td>/tmp/tmpm0u3v0_s/test_dataframe//analysis_resu...</td>\n",
       "      <td>/tmp/tmpm0u3v0_s/test_dataframe//analysis_resu...</td>\n",
       "      <td>/tmp/tmpm0u3v0_s/test_dataframe//analysis_resu...</td>\n",
       "      <td>/tmp/tmpm0u3v0_s/test_dataframe//analysis_resu...</td>\n",
       "    </tr>\n",
       "    <tr>\n",
       "      <th>3</th>\n",
       "      <td>/tmp/tmpm0u3v0_s/test_ensemble/_nethome_yzhuan...</td>\n",
       "      <td>/tmp/tmpm0u3v0_s/test_ensemble/_nethome_yzhuan...</td>\n",
       "      <td>0</td>\n",
       "      <td>/nethome/yzhuang/git_repo/ENPMDA/tests/ENPMDAT...</td>\n",
       "      <td>3</td>\n",
       "      <td>6.0</td>\n",
       "      <td>1</td>\n",
       "      <td>/tmp/tmpm0u3v0_s/test_dataframe//analysis_resu...</td>\n",
       "      <td>/tmp/tmpm0u3v0_s/test_dataframe//analysis_resu...</td>\n",
       "      <td>/tmp/tmpm0u3v0_s/test_dataframe//analysis_resu...</td>\n",
       "      <td>/tmp/tmpm0u3v0_s/test_dataframe//analysis_resu...</td>\n",
       "    </tr>\n",
       "    <tr>\n",
       "      <th>4</th>\n",
       "      <td>/tmp/tmpm0u3v0_s/test_ensemble/_nethome_yzhuan...</td>\n",
       "      <td>/tmp/tmpm0u3v0_s/test_ensemble/_nethome_yzhuan...</td>\n",
       "      <td>0</td>\n",
       "      <td>/nethome/yzhuang/git_repo/ENPMDA/tests/ENPMDAT...</td>\n",
       "      <td>4</td>\n",
       "      <td>8.0</td>\n",
       "      <td>1</td>\n",
       "      <td>/tmp/tmpm0u3v0_s/test_dataframe//analysis_resu...</td>\n",
       "      <td>/tmp/tmpm0u3v0_s/test_dataframe//analysis_resu...</td>\n",
       "      <td>/tmp/tmpm0u3v0_s/test_dataframe//analysis_resu...</td>\n",
       "      <td>/tmp/tmpm0u3v0_s/test_dataframe//analysis_resu...</td>\n",
       "    </tr>\n",
       "    <tr>\n",
       "      <th>...</th>\n",
       "      <td>...</td>\n",
       "      <td>...</td>\n",
       "      <td>...</td>\n",
       "      <td>...</td>\n",
       "      <td>...</td>\n",
       "      <td>...</td>\n",
       "      <td>...</td>\n",
       "      <td>...</td>\n",
       "      <td>...</td>\n",
       "      <td>...</td>\n",
       "      <td>...</td>\n",
       "    </tr>\n",
       "    <tr>\n",
       "      <th>163</th>\n",
       "      <td>/tmp/tmpm0u3v0_s/test_ensemble/_nethome_yzhuan...</td>\n",
       "      <td>/tmp/tmpm0u3v0_s/test_ensemble/_nethome_yzhuan...</td>\n",
       "      <td>7</td>\n",
       "      <td>/nethome/yzhuang/git_repo/ENPMDA/tests/ENPMDAT...</td>\n",
       "      <td>16</td>\n",
       "      <td>32.0</td>\n",
       "      <td>1</td>\n",
       "      <td>/tmp/tmpm0u3v0_s/test_dataframe//analysis_resu...</td>\n",
       "      <td>/tmp/tmpm0u3v0_s/test_dataframe//analysis_resu...</td>\n",
       "      <td>/tmp/tmpm0u3v0_s/test_dataframe//analysis_resu...</td>\n",
       "      <td>/tmp/tmpm0u3v0_s/test_dataframe//analysis_resu...</td>\n",
       "    </tr>\n",
       "    <tr>\n",
       "      <th>164</th>\n",
       "      <td>/tmp/tmpm0u3v0_s/test_ensemble/_nethome_yzhuan...</td>\n",
       "      <td>/tmp/tmpm0u3v0_s/test_ensemble/_nethome_yzhuan...</td>\n",
       "      <td>7</td>\n",
       "      <td>/nethome/yzhuang/git_repo/ENPMDA/tests/ENPMDAT...</td>\n",
       "      <td>17</td>\n",
       "      <td>34.0</td>\n",
       "      <td>1</td>\n",
       "      <td>/tmp/tmpm0u3v0_s/test_dataframe//analysis_resu...</td>\n",
       "      <td>/tmp/tmpm0u3v0_s/test_dataframe//analysis_resu...</td>\n",
       "      <td>/tmp/tmpm0u3v0_s/test_dataframe//analysis_resu...</td>\n",
       "      <td>/tmp/tmpm0u3v0_s/test_dataframe//analysis_resu...</td>\n",
       "    </tr>\n",
       "    <tr>\n",
       "      <th>165</th>\n",
       "      <td>/tmp/tmpm0u3v0_s/test_ensemble/_nethome_yzhuan...</td>\n",
       "      <td>/tmp/tmpm0u3v0_s/test_ensemble/_nethome_yzhuan...</td>\n",
       "      <td>7</td>\n",
       "      <td>/nethome/yzhuang/git_repo/ENPMDA/tests/ENPMDAT...</td>\n",
       "      <td>18</td>\n",
       "      <td>36.0</td>\n",
       "      <td>1</td>\n",
       "      <td>/tmp/tmpm0u3v0_s/test_dataframe//analysis_resu...</td>\n",
       "      <td>/tmp/tmpm0u3v0_s/test_dataframe//analysis_resu...</td>\n",
       "      <td>/tmp/tmpm0u3v0_s/test_dataframe//analysis_resu...</td>\n",
       "      <td>/tmp/tmpm0u3v0_s/test_dataframe//analysis_resu...</td>\n",
       "    </tr>\n",
       "    <tr>\n",
       "      <th>166</th>\n",
       "      <td>/tmp/tmpm0u3v0_s/test_ensemble/_nethome_yzhuan...</td>\n",
       "      <td>/tmp/tmpm0u3v0_s/test_ensemble/_nethome_yzhuan...</td>\n",
       "      <td>7</td>\n",
       "      <td>/nethome/yzhuang/git_repo/ENPMDA/tests/ENPMDAT...</td>\n",
       "      <td>19</td>\n",
       "      <td>38.0</td>\n",
       "      <td>1</td>\n",
       "      <td>/tmp/tmpm0u3v0_s/test_dataframe//analysis_resu...</td>\n",
       "      <td>/tmp/tmpm0u3v0_s/test_dataframe//analysis_resu...</td>\n",
       "      <td>/tmp/tmpm0u3v0_s/test_dataframe//analysis_resu...</td>\n",
       "      <td>/tmp/tmpm0u3v0_s/test_dataframe//analysis_resu...</td>\n",
       "    </tr>\n",
       "    <tr>\n",
       "      <th>167</th>\n",
       "      <td>/tmp/tmpm0u3v0_s/test_ensemble/_nethome_yzhuan...</td>\n",
       "      <td>/tmp/tmpm0u3v0_s/test_ensemble/_nethome_yzhuan...</td>\n",
       "      <td>7</td>\n",
       "      <td>/nethome/yzhuang/git_repo/ENPMDA/tests/ENPMDAT...</td>\n",
       "      <td>20</td>\n",
       "      <td>40.0</td>\n",
       "      <td>1</td>\n",
       "      <td>/tmp/tmpm0u3v0_s/test_dataframe//analysis_resu...</td>\n",
       "      <td>/tmp/tmpm0u3v0_s/test_dataframe//analysis_resu...</td>\n",
       "      <td>/tmp/tmpm0u3v0_s/test_dataframe//analysis_resu...</td>\n",
       "      <td>/tmp/tmpm0u3v0_s/test_dataframe//analysis_resu...</td>\n",
       "    </tr>\n",
       "  </tbody>\n",
       "</table>\n",
       "<p>168 rows × 11 columns</p>\n",
       "</div>"
      ],
      "text/plain": [
       "                                      universe_protein  \\\n",
       "0    /tmp/tmpm0u3v0_s/test_ensemble/_nethome_yzhuan...   \n",
       "1    /tmp/tmpm0u3v0_s/test_ensemble/_nethome_yzhuan...   \n",
       "2    /tmp/tmpm0u3v0_s/test_ensemble/_nethome_yzhuan...   \n",
       "3    /tmp/tmpm0u3v0_s/test_ensemble/_nethome_yzhuan...   \n",
       "4    /tmp/tmpm0u3v0_s/test_ensemble/_nethome_yzhuan...   \n",
       "..                                                 ...   \n",
       "163  /tmp/tmpm0u3v0_s/test_ensemble/_nethome_yzhuan...   \n",
       "164  /tmp/tmpm0u3v0_s/test_ensemble/_nethome_yzhuan...   \n",
       "165  /tmp/tmpm0u3v0_s/test_ensemble/_nethome_yzhuan...   \n",
       "166  /tmp/tmpm0u3v0_s/test_ensemble/_nethome_yzhuan...   \n",
       "167  /tmp/tmpm0u3v0_s/test_ensemble/_nethome_yzhuan...   \n",
       "\n",
       "                                       universe_system system  \\\n",
       "0    /tmp/tmpm0u3v0_s/test_ensemble/_nethome_yzhuan...      0   \n",
       "1    /tmp/tmpm0u3v0_s/test_ensemble/_nethome_yzhuan...      0   \n",
       "2    /tmp/tmpm0u3v0_s/test_ensemble/_nethome_yzhuan...      0   \n",
       "3    /tmp/tmpm0u3v0_s/test_ensemble/_nethome_yzhuan...      0   \n",
       "4    /tmp/tmpm0u3v0_s/test_ensemble/_nethome_yzhuan...      0   \n",
       "..                                                 ...    ...   \n",
       "163  /tmp/tmpm0u3v0_s/test_ensemble/_nethome_yzhuan...      7   \n",
       "164  /tmp/tmpm0u3v0_s/test_ensemble/_nethome_yzhuan...      7   \n",
       "165  /tmp/tmpm0u3v0_s/test_ensemble/_nethome_yzhuan...      7   \n",
       "166  /tmp/tmpm0u3v0_s/test_ensemble/_nethome_yzhuan...      7   \n",
       "167  /tmp/tmpm0u3v0_s/test_ensemble/_nethome_yzhuan...      7   \n",
       "\n",
       "                                             traj_name  frame  traj_time  \\\n",
       "0    /nethome/yzhuang/git_repo/ENPMDA/tests/ENPMDAT...      0        0.0   \n",
       "1    /nethome/yzhuang/git_repo/ENPMDA/tests/ENPMDAT...      1        2.0   \n",
       "2    /nethome/yzhuang/git_repo/ENPMDA/tests/ENPMDAT...      2        4.0   \n",
       "3    /nethome/yzhuang/git_repo/ENPMDA/tests/ENPMDAT...      3        6.0   \n",
       "4    /nethome/yzhuang/git_repo/ENPMDA/tests/ENPMDAT...      4        8.0   \n",
       "..                                                 ...    ...        ...   \n",
       "163  /nethome/yzhuang/git_repo/ENPMDA/tests/ENPMDAT...     16       32.0   \n",
       "164  /nethome/yzhuang/git_repo/ENPMDA/tests/ENPMDAT...     17       34.0   \n",
       "165  /nethome/yzhuang/git_repo/ENPMDA/tests/ENPMDAT...     18       36.0   \n",
       "166  /nethome/yzhuang/git_repo/ENPMDA/tests/ENPMDAT...     19       38.0   \n",
       "167  /nethome/yzhuang/git_repo/ENPMDA/tests/ENPMDAT...     20       40.0   \n",
       "\n",
       "    stride                                       rmsd_to_init  \\\n",
       "0        1  /tmp/tmpm0u3v0_s/test_dataframe//analysis_resu...   \n",
       "1        1  /tmp/tmpm0u3v0_s/test_dataframe//analysis_resu...   \n",
       "2        1  /tmp/tmpm0u3v0_s/test_dataframe//analysis_resu...   \n",
       "3        1  /tmp/tmpm0u3v0_s/test_dataframe//analysis_resu...   \n",
       "4        1  /tmp/tmpm0u3v0_s/test_dataframe//analysis_resu...   \n",
       "..     ...                                                ...   \n",
       "163      1  /tmp/tmpm0u3v0_s/test_dataframe//analysis_resu...   \n",
       "164      1  /tmp/tmpm0u3v0_s/test_dataframe//analysis_resu...   \n",
       "165      1  /tmp/tmpm0u3v0_s/test_dataframe//analysis_resu...   \n",
       "166      1  /tmp/tmpm0u3v0_s/test_dataframe//analysis_resu...   \n",
       "167      1  /tmp/tmpm0u3v0_s/test_dataframe//analysis_resu...   \n",
       "\n",
       "                                               torsion  \\\n",
       "0    /tmp/tmpm0u3v0_s/test_dataframe//analysis_resu...   \n",
       "1    /tmp/tmpm0u3v0_s/test_dataframe//analysis_resu...   \n",
       "2    /tmp/tmpm0u3v0_s/test_dataframe//analysis_resu...   \n",
       "3    /tmp/tmpm0u3v0_s/test_dataframe//analysis_resu...   \n",
       "4    /tmp/tmpm0u3v0_s/test_dataframe//analysis_resu...   \n",
       "..                                                 ...   \n",
       "163  /tmp/tmpm0u3v0_s/test_dataframe//analysis_resu...   \n",
       "164  /tmp/tmpm0u3v0_s/test_dataframe//analysis_resu...   \n",
       "165  /tmp/tmpm0u3v0_s/test_dataframe//analysis_resu...   \n",
       "166  /tmp/tmpm0u3v0_s/test_dataframe//analysis_resu...   \n",
       "167  /tmp/tmpm0u3v0_s/test_dataframe//analysis_resu...   \n",
       "\n",
       "                                           at_position  \\\n",
       "0    /tmp/tmpm0u3v0_s/test_dataframe//analysis_resu...   \n",
       "1    /tmp/tmpm0u3v0_s/test_dataframe//analysis_resu...   \n",
       "2    /tmp/tmpm0u3v0_s/test_dataframe//analysis_resu...   \n",
       "3    /tmp/tmpm0u3v0_s/test_dataframe//analysis_resu...   \n",
       "4    /tmp/tmpm0u3v0_s/test_dataframe//analysis_resu...   \n",
       "..                                                 ...   \n",
       "163  /tmp/tmpm0u3v0_s/test_dataframe//analysis_resu...   \n",
       "164  /tmp/tmpm0u3v0_s/test_dataframe//analysis_resu...   \n",
       "165  /tmp/tmpm0u3v0_s/test_dataframe//analysis_resu...   \n",
       "166  /tmp/tmpm0u3v0_s/test_dataframe//analysis_resu...   \n",
       "167  /tmp/tmpm0u3v0_s/test_dataframe//analysis_resu...   \n",
       "\n",
       "                                     protein_hydration  \n",
       "0    /tmp/tmpm0u3v0_s/test_dataframe//analysis_resu...  \n",
       "1    /tmp/tmpm0u3v0_s/test_dataframe//analysis_resu...  \n",
       "2    /tmp/tmpm0u3v0_s/test_dataframe//analysis_resu...  \n",
       "3    /tmp/tmpm0u3v0_s/test_dataframe//analysis_resu...  \n",
       "4    /tmp/tmpm0u3v0_s/test_dataframe//analysis_resu...  \n",
       "..                                                 ...  \n",
       "163  /tmp/tmpm0u3v0_s/test_dataframe//analysis_resu...  \n",
       "164  /tmp/tmpm0u3v0_s/test_dataframe//analysis_resu...  \n",
       "165  /tmp/tmpm0u3v0_s/test_dataframe//analysis_resu...  \n",
       "166  /tmp/tmpm0u3v0_s/test_dataframe//analysis_resu...  \n",
       "167  /tmp/tmpm0u3v0_s/test_dataframe//analysis_resu...  \n",
       "\n",
       "[168 rows x 11 columns]"
      ]
     },
     "execution_count": 14,
     "metadata": {},
     "output_type": "execute_result"
    }
   ],
   "source": [
    "md_dataframe.dataframe"
   ]
  },
  {
   "cell_type": "markdown",
   "metadata": {},
   "source": [
    "All the features will be stored in `npy` files.\n",
    "\n",
    "It can be accessed by `get_feature` function.\n",
    "\n",
    "It should be used with caution because all the features will be loaded into memory."
   ]
  },
  {
   "cell_type": "code",
   "execution_count": 15,
   "metadata": {},
   "outputs": [],
   "source": [
    "feature_dataframe = md_dataframe.get_feature([\n",
    "                        'torsion',\n",
    "                        'protein_hydration'\n",
    "                        ])"
   ]
  },
  {
   "cell_type": "code",
   "execution_count": 16,
   "metadata": {},
   "outputs": [
    {
     "data": {
      "text/html": [
       "<div>\n",
       "<style scoped>\n",
       "    .dataframe tbody tr th:only-of-type {\n",
       "        vertical-align: middle;\n",
       "    }\n",
       "\n",
       "    .dataframe tbody tr th {\n",
       "        vertical-align: top;\n",
       "    }\n",
       "\n",
       "    .dataframe thead th {\n",
       "        text-align: right;\n",
       "    }\n",
       "</style>\n",
       "<table border=\"1\" class=\"dataframe\">\n",
       "  <thead>\n",
       "    <tr style=\"text-align: right;\">\n",
       "      <th></th>\n",
       "      <th>system</th>\n",
       "      <th>traj_name</th>\n",
       "      <th>frame</th>\n",
       "      <th>traj_time</th>\n",
       "      <th>0_phi_cos</th>\n",
       "      <th>0_phi_sin</th>\n",
       "      <th>1_psi_cos</th>\n",
       "      <th>1_psi_sin</th>\n",
       "      <th>protein_hydration</th>\n",
       "    </tr>\n",
       "  </thead>\n",
       "  <tbody>\n",
       "    <tr>\n",
       "      <th>0</th>\n",
       "      <td>0</td>\n",
       "      <td>/nethome/yzhuang/git_repo/ENPMDA/tests/ENPMDAT...</td>\n",
       "      <td>0</td>\n",
       "      <td>0.0</td>\n",
       "      <td>-0.972585</td>\n",
       "      <td>0.232546</td>\n",
       "      <td>-0.850531</td>\n",
       "      <td>-0.525925</td>\n",
       "      <td>89</td>\n",
       "    </tr>\n",
       "    <tr>\n",
       "      <th>1</th>\n",
       "      <td>0</td>\n",
       "      <td>/nethome/yzhuang/git_repo/ENPMDA/tests/ENPMDAT...</td>\n",
       "      <td>1</td>\n",
       "      <td>2.0</td>\n",
       "      <td>-0.930982</td>\n",
       "      <td>0.365066</td>\n",
       "      <td>-0.182160</td>\n",
       "      <td>-0.983269</td>\n",
       "      <td>88</td>\n",
       "    </tr>\n",
       "    <tr>\n",
       "      <th>2</th>\n",
       "      <td>0</td>\n",
       "      <td>/nethome/yzhuang/git_repo/ENPMDA/tests/ENPMDAT...</td>\n",
       "      <td>2</td>\n",
       "      <td>4.0</td>\n",
       "      <td>-0.921595</td>\n",
       "      <td>0.388153</td>\n",
       "      <td>-0.672957</td>\n",
       "      <td>-0.739681</td>\n",
       "      <td>93</td>\n",
       "    </tr>\n",
       "    <tr>\n",
       "      <th>3</th>\n",
       "      <td>0</td>\n",
       "      <td>/nethome/yzhuang/git_repo/ENPMDA/tests/ENPMDAT...</td>\n",
       "      <td>3</td>\n",
       "      <td>6.0</td>\n",
       "      <td>-0.891143</td>\n",
       "      <td>0.453722</td>\n",
       "      <td>0.298339</td>\n",
       "      <td>-0.954460</td>\n",
       "      <td>94</td>\n",
       "    </tr>\n",
       "    <tr>\n",
       "      <th>4</th>\n",
       "      <td>0</td>\n",
       "      <td>/nethome/yzhuang/git_repo/ENPMDA/tests/ENPMDAT...</td>\n",
       "      <td>4</td>\n",
       "      <td>8.0</td>\n",
       "      <td>-0.774034</td>\n",
       "      <td>0.633144</td>\n",
       "      <td>0.010315</td>\n",
       "      <td>-0.999947</td>\n",
       "      <td>102</td>\n",
       "    </tr>\n",
       "    <tr>\n",
       "      <th>...</th>\n",
       "      <td>...</td>\n",
       "      <td>...</td>\n",
       "      <td>...</td>\n",
       "      <td>...</td>\n",
       "      <td>...</td>\n",
       "      <td>...</td>\n",
       "      <td>...</td>\n",
       "      <td>...</td>\n",
       "      <td>...</td>\n",
       "    </tr>\n",
       "    <tr>\n",
       "      <th>163</th>\n",
       "      <td>7</td>\n",
       "      <td>/nethome/yzhuang/git_repo/ENPMDA/tests/ENPMDAT...</td>\n",
       "      <td>16</td>\n",
       "      <td>32.0</td>\n",
       "      <td>-0.849980</td>\n",
       "      <td>0.526815</td>\n",
       "      <td>0.599313</td>\n",
       "      <td>-0.800515</td>\n",
       "      <td>97</td>\n",
       "    </tr>\n",
       "    <tr>\n",
       "      <th>164</th>\n",
       "      <td>7</td>\n",
       "      <td>/nethome/yzhuang/git_repo/ENPMDA/tests/ENPMDAT...</td>\n",
       "      <td>17</td>\n",
       "      <td>34.0</td>\n",
       "      <td>-0.828825</td>\n",
       "      <td>0.559508</td>\n",
       "      <td>0.511923</td>\n",
       "      <td>-0.859032</td>\n",
       "      <td>102</td>\n",
       "    </tr>\n",
       "    <tr>\n",
       "      <th>165</th>\n",
       "      <td>7</td>\n",
       "      <td>/nethome/yzhuang/git_repo/ENPMDA/tests/ENPMDAT...</td>\n",
       "      <td>18</td>\n",
       "      <td>36.0</td>\n",
       "      <td>-0.943376</td>\n",
       "      <td>0.331726</td>\n",
       "      <td>0.449359</td>\n",
       "      <td>-0.893351</td>\n",
       "      <td>91</td>\n",
       "    </tr>\n",
       "    <tr>\n",
       "      <th>166</th>\n",
       "      <td>7</td>\n",
       "      <td>/nethome/yzhuang/git_repo/ENPMDA/tests/ENPMDAT...</td>\n",
       "      <td>19</td>\n",
       "      <td>38.0</td>\n",
       "      <td>-0.335371</td>\n",
       "      <td>0.942086</td>\n",
       "      <td>0.311771</td>\n",
       "      <td>-0.950157</td>\n",
       "      <td>95</td>\n",
       "    </tr>\n",
       "    <tr>\n",
       "      <th>167</th>\n",
       "      <td>7</td>\n",
       "      <td>/nethome/yzhuang/git_repo/ENPMDA/tests/ENPMDAT...</td>\n",
       "      <td>20</td>\n",
       "      <td>40.0</td>\n",
       "      <td>-0.985048</td>\n",
       "      <td>-0.172282</td>\n",
       "      <td>-0.737555</td>\n",
       "      <td>-0.675287</td>\n",
       "      <td>114</td>\n",
       "    </tr>\n",
       "  </tbody>\n",
       "</table>\n",
       "<p>168 rows × 9 columns</p>\n",
       "</div>"
      ],
      "text/plain": [
       "    system                                          traj_name  frame  \\\n",
       "0        0  /nethome/yzhuang/git_repo/ENPMDA/tests/ENPMDAT...      0   \n",
       "1        0  /nethome/yzhuang/git_repo/ENPMDA/tests/ENPMDAT...      1   \n",
       "2        0  /nethome/yzhuang/git_repo/ENPMDA/tests/ENPMDAT...      2   \n",
       "3        0  /nethome/yzhuang/git_repo/ENPMDA/tests/ENPMDAT...      3   \n",
       "4        0  /nethome/yzhuang/git_repo/ENPMDA/tests/ENPMDAT...      4   \n",
       "..     ...                                                ...    ...   \n",
       "163      7  /nethome/yzhuang/git_repo/ENPMDA/tests/ENPMDAT...     16   \n",
       "164      7  /nethome/yzhuang/git_repo/ENPMDA/tests/ENPMDAT...     17   \n",
       "165      7  /nethome/yzhuang/git_repo/ENPMDA/tests/ENPMDAT...     18   \n",
       "166      7  /nethome/yzhuang/git_repo/ENPMDA/tests/ENPMDAT...     19   \n",
       "167      7  /nethome/yzhuang/git_repo/ENPMDA/tests/ENPMDAT...     20   \n",
       "\n",
       "     traj_time  0_phi_cos  0_phi_sin  1_psi_cos  1_psi_sin  protein_hydration  \n",
       "0          0.0  -0.972585   0.232546  -0.850531  -0.525925                 89  \n",
       "1          2.0  -0.930982   0.365066  -0.182160  -0.983269                 88  \n",
       "2          4.0  -0.921595   0.388153  -0.672957  -0.739681                 93  \n",
       "3          6.0  -0.891143   0.453722   0.298339  -0.954460                 94  \n",
       "4          8.0  -0.774034   0.633144   0.010315  -0.999947                102  \n",
       "..         ...        ...        ...        ...        ...                ...  \n",
       "163       32.0  -0.849980   0.526815   0.599313  -0.800515                 97  \n",
       "164       34.0  -0.828825   0.559508   0.511923  -0.859032                102  \n",
       "165       36.0  -0.943376   0.331726   0.449359  -0.893351                 91  \n",
       "166       38.0  -0.335371   0.942086   0.311771  -0.950157                 95  \n",
       "167       40.0  -0.985048  -0.172282  -0.737555  -0.675287                114  \n",
       "\n",
       "[168 rows x 9 columns]"
      ]
     },
     "execution_count": 16,
     "metadata": {},
     "output_type": "execute_result"
    }
   ],
   "source": [
    "feature_dataframe"
   ]
  },
  {
   "cell_type": "code",
   "execution_count": 17,
   "metadata": {},
   "outputs": [
    {
     "data": {
      "image/png": "[encoded data removed]",
      "text/plain": [
       "<Figure size 432x288 with 1 Axes>"
      ]
     },
     "metadata": {
      "needs_background": "light"
     },
     "output_type": "display_data"
    }
   ],
   "source": [
    "import seaborn as sns\n",
    "import matplotlib.pyplot as plt\n",
    "\n",
    "sns.barplot(data=feature_dataframe,\n",
    "             x='system',\n",
    "             y='protein_hydration')\n",
    "plt.show()"
   ]
  },
  {
   "cell_type": "code",
   "execution_count": 18,
   "metadata": {},
   "outputs": [
    {
     "data": {
      "image/png": "[encoded data removed]",
      "text/plain": [
       "<Figure size 432x288 with 1 Axes>"
      ]
     },
     "metadata": {
      "needs_background": "light"
     },
     "output_type": "display_data"
    }
   ],
   "source": [
    "sns.lineplot(data=feature_dataframe,\n",
    "             x='traj_time',\n",
    "             y='0_phi_cos',\n",
    "             hue='system')\n",
    "plt.show()"
   ]
  }
 ],
 "metadata": {
  "interpreter": {
   "hash": "8ee8c53404dc23d51e7b542ee493e07a5c192c0c74b5268593435bad2c059391"
  },
  "kernelspec": {
   "display_name": "Python 3.9.0 ('deeplearning': conda)",
   "language": "python",
   "name": "python3"
  },
  "language_info": {
   "codemirror_mode": {
    "name": "ipython",
    "version": 3
   },
   "file_extension": ".py",
   "mimetype": "text/x-python",
   "name": "python",
   "nbconvert_exporter": "python",
   "pygments_lexer": "ipython3",
   "version": "3.9.0"
  },
  "orig_nbformat": 4
 },
 "nbformat": 4,
 "nbformat_minor": 2
}
